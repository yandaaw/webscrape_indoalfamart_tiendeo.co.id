{
 "cells": [
  {
   "cell_type": "code",
   "execution_count": 1,
   "metadata": {},
   "outputs": [],
   "source": [
    "import requests\n",
    "from bs4 import BeautifulSoup\n",
    "from bs4.element import Comment"
   ]
  },
  {
   "cell_type": "code",
   "execution_count": 9,
   "metadata": {},
   "outputs": [],
   "source": [
    "import pandas as pd\n",
    "hj_branded1 = []\n",
    "for page_number in range(1, 4):\n",
    "    page_response = requests.get(f'https://www.tiendeo.co.id/toko/jakarta-timur/indomaret')\n",
    "    page_soup = BeautifulSoup(page_response.text, 'html.parser')\n",
    "    product_names = page_soup.select('#nearest-stores-slider .typo-subhead-14-med')\n",
    "    for product_name in product_names:\n",
    "        row = product_name\n",
    "        hj_branded1.append(row)\n",
    "    hj1=pd.DataFrame(hj_branded1, columns=[\"NAMA_TOKO\"]) "
   ]
  },
  {
   "cell_type": "code",
   "execution_count": 10,
   "metadata": {},
   "outputs": [],
   "source": [
    "import pandas as pd\n",
    "hj_branded1 = []\n",
    "for page_number in range(1, 4):\n",
    "    page_response = requests.get(f'https://www.tiendeo.co.id/toko/jakarta-timur/indomaret')\n",
    "    page_soup = BeautifulSoup(page_response.text, 'html.parser')\n",
    "    product_names = page_soup.select('#nearest-stores-slider .typo-body-13-reg')\n",
    "    for product_name in product_names:\n",
    "        row = product_name\n",
    "        hj_branded1.append(row)\n",
    "    hj2=pd.DataFrame(hj_branded1, columns=[\"ALAMAT\"]) "
   ]
  },
  {
   "cell_type": "code",
   "execution_count": 11,
   "metadata": {},
   "outputs": [],
   "source": [
    "frame = [ hj1,hj2]\n",
    "result = pd.concat(frame,axis=1)"
   ]
  },
  {
   "cell_type": "code",
   "execution_count": 17,
   "metadata": {},
   "outputs": [],
   "source": [
    "import pandas as pd\n",
    "hj_branded1 = []\n",
    "for page_number in range(1, 4):\n",
    "    page_response = requests.get(f'https://www.tiendeo.co.id/toko/jember/indomaret')\n",
    "    page_soup = BeautifulSoup(page_response.text, 'html.parser')\n",
    "    product_names = page_soup.select('#nearest-stores-slider .typo-subhead-14-med')\n",
    "    for product_name in product_names:\n",
    "        row = product_name\n",
    "        hj_branded1.append(row)\n",
    "    hj3=pd.DataFrame(hj_branded1, columns=[\"NAMA_TOKO\"])"
   ]
  },
  {
   "cell_type": "code",
   "execution_count": 19,
   "metadata": {},
   "outputs": [],
   "source": [
    "import pandas as pd\n",
    "hj_branded1 = []\n",
    "for page_number in range(1, 4):\n",
    "    page_response = requests.get(f'https://www.tiendeo.co.id/toko/jember/indomaret')\n",
    "    page_soup = BeautifulSoup(page_response.text, 'html.parser')\n",
    "    product_names = page_soup.select('#nearest-stores-slider .typo-body-13-reg')\n",
    "    for product_name in product_names:\n",
    "        row = product_name\n",
    "        hj_branded1.append(row)\n",
    "    hj4=pd.DataFrame(hj_branded1, columns=[\"ALAMAT\"])"
   ]
  },
  {
   "cell_type": "code",
   "execution_count": 21,
   "metadata": {},
   "outputs": [],
   "source": [
    "frame = [ hj3,hj4]\n",
    "result2 = pd.concat(frame,axis=1)"
   ]
  },
  {
   "cell_type": "code",
   "execution_count": 29,
   "metadata": {},
   "outputs": [],
   "source": [
    "frame = [ result,result2]\n",
    "result_final = pd.concat(frame,ignore_index=True)"
   ]
  },
  {
   "cell_type": "code",
   "execution_count": 30,
   "metadata": {},
   "outputs": [
    {
     "data": {
      "text/html": [
       "<div>\n",
       "<style scoped>\n",
       "    .dataframe tbody tr th:only-of-type {\n",
       "        vertical-align: middle;\n",
       "    }\n",
       "\n",
       "    .dataframe tbody tr th {\n",
       "        vertical-align: top;\n",
       "    }\n",
       "\n",
       "    .dataframe thead th {\n",
       "        text-align: right;\n",
       "    }\n",
       "</style>\n",
       "<table border=\"1\" class=\"dataframe\">\n",
       "  <thead>\n",
       "    <tr style=\"text-align: right;\">\n",
       "      <th></th>\n",
       "      <th>NAMA_TOKO</th>\n",
       "      <th>ALAMAT</th>\n",
       "    </tr>\n",
       "  </thead>\n",
       "  <tbody>\n",
       "    <tr>\n",
       "      <th>0</th>\n",
       "      <td>Indomaret</td>\n",
       "      <td>Jl Cipinang Lontar Indah 9 , 13420 Jakarta Ti...</td>\n",
       "    </tr>\n",
       "    <tr>\n",
       "      <th>1</th>\n",
       "      <td>Indomaret</td>\n",
       "      <td>Kp Jembatan 10 RT 004/01, 13940 Jakarta Timur</td>\n",
       "    </tr>\n",
       "    <tr>\n",
       "      <th>2</th>\n",
       "      <td>Indomaret</td>\n",
       "      <td>Jl I Gusti Ngurah Rai,  Jakarta Timur</td>\n",
       "    </tr>\n",
       "    <tr>\n",
       "      <th>3</th>\n",
       "      <td>Indomaret</td>\n",
       "      <td>Jl Mayjen Sutoyo,  Jakarta Timur</td>\n",
       "    </tr>\n",
       "    <tr>\n",
       "      <th>4</th>\n",
       "      <td>Indomaret</td>\n",
       "      <td>Jl Raya Duren Sawit 99, 13440 Jakarta</td>\n",
       "    </tr>\n",
       "    <tr>\n",
       "      <th>...</th>\n",
       "      <td>...</td>\n",
       "      <td>...</td>\n",
       "    </tr>\n",
       "    <tr>\n",
       "      <th>67</th>\n",
       "      <td>Indomaret</td>\n",
       "      <td>Jl Kalimantan 9, 68121 Jember</td>\n",
       "    </tr>\n",
       "    <tr>\n",
       "      <th>68</th>\n",
       "      <td>Indomaret</td>\n",
       "      <td>Jl Dharmawangsa 9-10, 68136 Jember</td>\n",
       "    </tr>\n",
       "    <tr>\n",
       "      <th>69</th>\n",
       "      <td>Indomaret</td>\n",
       "      <td>Jl Mastrip, 68121 Jember</td>\n",
       "    </tr>\n",
       "    <tr>\n",
       "      <th>70</th>\n",
       "      <td>Indomaret</td>\n",
       "      <td>Jl Rambipuji 73, 68152 Jember</td>\n",
       "    </tr>\n",
       "    <tr>\n",
       "      <th>71</th>\n",
       "      <td>Indomaret</td>\n",
       "      <td>Jl Raya Kawi 38, 68171 Jember</td>\n",
       "    </tr>\n",
       "  </tbody>\n",
       "</table>\n",
       "<p>72 rows × 2 columns</p>\n",
       "</div>"
      ],
      "text/plain": [
       "      NAMA_TOKO                                             ALAMAT\n",
       "0    Indomaret    Jl Cipinang Lontar Indah 9 , 13420 Jakarta Ti...\n",
       "1    Indomaret      Kp Jembatan 10 RT 004/01, 13940 Jakarta Timur \n",
       "2    Indomaret              Jl I Gusti Ngurah Rai,  Jakarta Timur \n",
       "3    Indomaret                   Jl Mayjen Sutoyo,  Jakarta Timur \n",
       "4    Indomaret              Jl Raya Duren Sawit 99, 13440 Jakarta \n",
       "..          ...                                                ...\n",
       "67   Indomaret                      Jl Kalimantan 9, 68121 Jember \n",
       "68   Indomaret                 Jl Dharmawangsa 9-10, 68136 Jember \n",
       "69   Indomaret                           Jl Mastrip, 68121 Jember \n",
       "70   Indomaret                      Jl Rambipuji 73, 68152 Jember \n",
       "71   Indomaret                      Jl Raya Kawi 38, 68171 Jember \n",
       "\n",
       "[72 rows x 2 columns]"
      ]
     },
     "execution_count": 30,
     "metadata": {},
     "output_type": "execute_result"
    }
   ],
   "source": [
    "result_final"
   ]
  },
  {
   "cell_type": "code",
   "execution_count": 31,
   "metadata": {},
   "outputs": [],
   "source": [
    "result_final.to_excel(\"crawling_indomaret.xlsx\")"
   ]
  },
  {
   "cell_type": "code",
   "execution_count": 32,
   "metadata": {},
   "outputs": [],
   "source": [
    "result['City'] = \"Jakarta Timur\""
   ]
  },
  {
   "cell_type": "code",
   "execution_count": 36,
   "metadata": {},
   "outputs": [],
   "source": [
    "result = result.drop_duplicates()"
   ]
  },
  {
   "cell_type": "code",
   "execution_count": 37,
   "metadata": {},
   "outputs": [],
   "source": [
    "result2['City'] = \"Jember\""
   ]
  },
  {
   "cell_type": "code",
   "execution_count": 39,
   "metadata": {},
   "outputs": [],
   "source": [
    "result2 = result2.drop_duplicates()"
   ]
  },
  {
   "cell_type": "code",
   "execution_count": 41,
   "metadata": {},
   "outputs": [],
   "source": [
    "import pandas as pd\n",
    "hj_branded1 = []\n",
    "for page_number in range(1, 4):\n",
    "    page_response = requests.get(f'https://www.tiendeo.co.id/toko/jakarta-timur/alfamart')\n",
    "    page_soup = BeautifulSoup(page_response.text, 'html.parser')\n",
    "    product_names = page_soup.select('#nearest-stores-slider .typo-subhead-14-med')\n",
    "    for product_name in product_names:\n",
    "        row = product_name\n",
    "        hj_branded1.append(row)\n",
    "    hj5=pd.DataFrame(hj_branded1, columns=[\"NAMA_TOKO\"]) "
   ]
  },
  {
   "cell_type": "code",
   "execution_count": 43,
   "metadata": {},
   "outputs": [],
   "source": [
    "import pandas as pd\n",
    "hj_branded1 = []\n",
    "for page_number in range(1, 4):\n",
    "    page_response = requests.get(f'https://www.tiendeo.co.id/toko/jakarta-timur/alfamart')\n",
    "    page_soup = BeautifulSoup(page_response.text, 'html.parser')\n",
    "    product_names = page_soup.select('#nearest-stores-slider .typo-body-13-reg')\n",
    "    for product_name in product_names:\n",
    "        row = product_name\n",
    "        hj_branded1.append(row)\n",
    "    hj6=pd.DataFrame(hj_branded1, columns=[\"Alamat\"]) "
   ]
  },
  {
   "cell_type": "code",
   "execution_count": 44,
   "metadata": {},
   "outputs": [],
   "source": [
    "frame = [ hj5,hj6]\n",
    "result3 = pd.concat(frame,axis=1)"
   ]
  },
  {
   "cell_type": "code",
   "execution_count": 45,
   "metadata": {},
   "outputs": [],
   "source": [
    "result3['City'] = \"Jakarta Timur\""
   ]
  },
  {
   "cell_type": "code",
   "execution_count": 46,
   "metadata": {},
   "outputs": [],
   "source": [
    "result3 = result3.drop_duplicates()"
   ]
  },
  {
   "cell_type": "code",
   "execution_count": 47,
   "metadata": {},
   "outputs": [
    {
     "data": {
      "text/html": [
       "<div>\n",
       "<style scoped>\n",
       "    .dataframe tbody tr th:only-of-type {\n",
       "        vertical-align: middle;\n",
       "    }\n",
       "\n",
       "    .dataframe tbody tr th {\n",
       "        vertical-align: top;\n",
       "    }\n",
       "\n",
       "    .dataframe thead th {\n",
       "        text-align: right;\n",
       "    }\n",
       "</style>\n",
       "<table border=\"1\" class=\"dataframe\">\n",
       "  <thead>\n",
       "    <tr style=\"text-align: right;\">\n",
       "      <th></th>\n",
       "      <th>NAMA_TOKO</th>\n",
       "      <th>Alamat</th>\n",
       "      <th>City</th>\n",
       "    </tr>\n",
       "  </thead>\n",
       "  <tbody>\n",
       "    <tr>\n",
       "      <th>0</th>\n",
       "      <td>Cileungsi Branch 1 &amp; 2</td>\n",
       "      <td>Kawasan Industri Menara Permai Kav.18 Jl.Raya...</td>\n",
       "      <td>Jakarta Timur</td>\n",
       "    </tr>\n",
       "    <tr>\n",
       "      <th>1</th>\n",
       "      <td>Parung Branch</td>\n",
       "      <td>PT. SUMBER ALFARIA TRIJAYA, Tbk, DC GN SINDUR...</td>\n",
       "      <td>Jakarta Timur</td>\n",
       "    </tr>\n",
       "    <tr>\n",
       "      <th>2</th>\n",
       "      <td>Jababeka Branch</td>\n",
       "      <td>Jl. Industri Selatan Blok PP No.6,  Bekasi</td>\n",
       "      <td>Jakarta Timur</td>\n",
       "    </tr>\n",
       "    <tr>\n",
       "      <th>3</th>\n",
       "      <td>Cikokol Branch</td>\n",
       "      <td>Jl. MH Thamrin No 9 Cikokol Tangerang - 15117...</td>\n",
       "      <td>Jakarta Timur</td>\n",
       "    </tr>\n",
       "    <tr>\n",
       "      <th>4</th>\n",
       "      <td>Cikokol Head Office</td>\n",
       "      <td>Jl. MH Thamrin No.9, 15117 Tangerang</td>\n",
       "      <td>Jakarta Timur</td>\n",
       "    </tr>\n",
       "    <tr>\n",
       "      <th>5</th>\n",
       "      <td>Karadenan Branch</td>\n",
       "      <td>JL.Raya Karadenan RT.01 RW.10,  Cibinong</td>\n",
       "      <td>Jakarta Timur</td>\n",
       "    </tr>\n",
       "    <tr>\n",
       "      <th>6</th>\n",
       "      <td>Balaraja Branch</td>\n",
       "      <td>KP. Seglok, Ds Pasir Bolang, Kec Tigaraksa. B...</td>\n",
       "      <td>Jakarta Timur</td>\n",
       "    </tr>\n",
       "    <tr>\n",
       "      <th>7</th>\n",
       "      <td>Alfamart</td>\n",
       "      <td>JL Klari Raya, No. 9, RT 07 RW 01, Anggadita,...</td>\n",
       "      <td>Jakarta Timur</td>\n",
       "    </tr>\n",
       "  </tbody>\n",
       "</table>\n",
       "</div>"
      ],
      "text/plain": [
       "                  NAMA_TOKO  \\\n",
       "0   Cileungsi Branch 1 & 2    \n",
       "1            Parung Branch    \n",
       "2          Jababeka Branch    \n",
       "3           Cikokol Branch    \n",
       "4      Cikokol Head Office    \n",
       "5         Karadenan Branch    \n",
       "6          Balaraja Branch    \n",
       "7                 Alfamart    \n",
       "\n",
       "                                              Alamat           City  \n",
       "0   Kawasan Industri Menara Permai Kav.18 Jl.Raya...  Jakarta Timur  \n",
       "1   PT. SUMBER ALFARIA TRIJAYA, Tbk, DC GN SINDUR...  Jakarta Timur  \n",
       "2        Jl. Industri Selatan Blok PP No.6,  Bekasi   Jakarta Timur  \n",
       "3   Jl. MH Thamrin No 9 Cikokol Tangerang - 15117...  Jakarta Timur  \n",
       "4              Jl. MH Thamrin No.9, 15117 Tangerang   Jakarta Timur  \n",
       "5          JL.Raya Karadenan RT.01 RW.10,  Cibinong   Jakarta Timur  \n",
       "6   KP. Seglok, Ds Pasir Bolang, Kec Tigaraksa. B...  Jakarta Timur  \n",
       "7   JL Klari Raya, No. 9, RT 07 RW 01, Anggadita,...  Jakarta Timur  "
      ]
     },
     "execution_count": 47,
     "metadata": {},
     "output_type": "execute_result"
    }
   ],
   "source": [
    "result3"
   ]
  }
 ],
 "metadata": {
  "kernelspec": {
   "display_name": "Python 3",
   "language": "python",
   "name": "python3"
  },
  "language_info": {
   "codemirror_mode": {
    "name": "ipython",
    "version": 3
   },
   "file_extension": ".py",
   "mimetype": "text/x-python",
   "name": "python",
   "nbconvert_exporter": "python",
   "pygments_lexer": "ipython3",
   "version": "3.7.3"
  }
 },
 "nbformat": 4,
 "nbformat_minor": 4
}
